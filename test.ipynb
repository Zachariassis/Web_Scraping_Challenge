{
 "metadata": {
  "language_info": {
   "codemirror_mode": {
    "name": "ipython",
    "version": 3
   },
   "file_extension": ".py",
   "mimetype": "text/x-python",
   "name": "python",
   "nbconvert_exporter": "python",
   "pygments_lexer": "ipython3",
   "version": "3.6.10-final"
  },
  "orig_nbformat": 2,
  "kernelspec": {
   "name": "python3",
   "display_name": "Python 3"
  }
 },
 "nbformat": 4,
 "nbformat_minor": 2,
 "cells": [
  {
   "cell_type": "code",
   "execution_count": 1,
   "metadata": {},
   "outputs": [],
   "source": [
    "import mission_to_mars\n",
    "from splinter import Browser\n",
    "from bs4 import BeautifulSoup\n",
    "import pandas as pd\n",
    "import json\n",
    "import mars_test"
   ]
  },
  {
   "cell_type": "code",
   "execution_count": 13,
   "metadata": {},
   "outputs": [
    {
     "output_type": "execute_result",
     "data": {
      "text/plain": [
       "                                          Title  \\\n",
       "0  NASA's Perseverance Rover Is Midway to Mars    \n",
       "\n",
       "                                                Body  \n",
       "0  Sometimes half measures can be a good thing – ...  "
      ],
      "text/html": "<div>\n<style scoped>\n    .dataframe tbody tr th:only-of-type {\n        vertical-align: middle;\n    }\n\n    .dataframe tbody tr th {\n        vertical-align: top;\n    }\n\n    .dataframe thead th {\n        text-align: right;\n    }\n</style>\n<table border=\"1\" class=\"dataframe\">\n  <thead>\n    <tr style=\"text-align: right;\">\n      <th></th>\n      <th>Title</th>\n      <th>Body</th>\n    </tr>\n  </thead>\n  <tbody>\n    <tr>\n      <th>0</th>\n      <td>NASA's Perseverance Rover Is Midway to Mars</td>\n      <td>Sometimes half measures can be a good thing – ...</td>\n    </tr>\n  </tbody>\n</table>\n</div>"
     },
     "metadata": {},
     "execution_count": 13
    }
   ],
   "source": [
    "data2=pd.DataFrame({\"Title\": [data.Title], \"Body\": [data.Body]})\n",
    "data2"
   ]
  },
  {
   "cell_type": "code",
   "execution_count": 12,
   "metadata": {},
   "outputs": [
    {
     "output_type": "execute_result",
     "data": {
      "text/plain": [
       "\"NASA's Perseverance Rover Is Midway to Mars \""
      ]
     },
     "metadata": {},
     "execution_count": 12
    }
   ],
   "source": [
    "data.Title"
   ]
  },
  {
   "cell_type": "code",
   "execution_count": 11,
   "metadata": {},
   "outputs": [
    {
     "output_type": "execute_result",
     "data": {
      "text/plain": [
       "Title         NASA's Perseverance Rover Is Midway to Mars \n",
       "Body     Sometimes half measures can be a good thing – ...\n",
       "Name: 0, dtype: object"
      ]
     },
     "metadata": {},
     "execution_count": 11
    }
   ],
   "source": [
    "data=mission_to_mars.mars_news()\n",
    "#data=mars_test.mars_news2()\n",
    "#data=mars_news()\n",
    "data.head()"
   ]
  },
  {
   "cell_type": "code",
   "execution_count": 2,
   "metadata": {},
   "outputs": [],
   "source": [
    "def mars_news():\n",
    "    #Parse Mars News\n",
    "    executable_path = {'executable_path': 'chromedriver.exe'}\n",
    "    browser = Browser('chrome', **executable_path)\n",
    "    url_mars_news='https://mars.nasa.gov/news/'\n",
    "    browser.visit(url_mars_news)\n",
    "    html = browser.html\n",
    "    soup = BeautifulSoup(html, 'html.parser')\n",
    "\n",
    "    article=soup.find_all('ul', class_='item_list')[0].find_all('li',class_='slide')\n",
    "\n",
    "    title=[]\n",
    "    news=[]\n",
    "    for i in range(len(article)):\n",
    "        title.append(article[i].find('div',class_='content_title').text)\n",
    "        news.append(article[i].find('div',class_='article_teaser_body').text)\n",
    "    \n",
    "    news=pd.DataFrame({\"Title\": title, \"Body\": news})\n",
    "\n",
    "    browser.quit()\n",
    "\n",
    "    return news"
   ]
  },
  {
   "cell_type": "code",
   "execution_count": null,
   "metadata": {},
   "outputs": [],
   "source": []
  }
 ]
}