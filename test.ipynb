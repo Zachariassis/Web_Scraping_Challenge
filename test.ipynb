{
 "metadata": {
  "language_info": {
   "codemirror_mode": {
    "name": "ipython",
    "version": 3
   },
   "file_extension": ".py",
   "mimetype": "text/x-python",
   "name": "python",
   "nbconvert_exporter": "python",
   "pygments_lexer": "ipython3",
   "version": "3.6.10-final"
  },
  "orig_nbformat": 2,
  "kernelspec": {
   "name": "python3",
   "display_name": "Python 3"
  }
 },
 "nbformat": 4,
 "nbformat_minor": 2,
 "cells": [
  {
   "cell_type": "code",
   "execution_count": 1,
   "metadata": {},
   "outputs": [],
   "source": [
    "import mission_to_mars\n",
    "from splinter import Browser\n",
    "from bs4 import BeautifulSoup\n",
    "import time\n",
    "import pandas as pd\n",
    "import json\n",
    "import mars_test\n",
    "from flask_pymongo import PyMongo\n",
    "from flask import Flask, render_template, redirect"
   ]
  },
  {
   "cell_type": "code",
   "execution_count": 32,
   "metadata": {},
   "outputs": [],
   "source": [
    "app = Flask(__name__)\n",
    "app.config[\"MONGO_URI\"] = \"mongodb://localhost:27017/mission_to_mars_app\"\n",
    "mongo = PyMongo(app)"
   ]
  },
  {
   "cell_type": "code",
   "execution_count": 36,
   "metadata": {},
   "outputs": [],
   "source": [
    "news = mongo.db.news.find_one()\n",
    "facts = mongo.db.facts.find_one()"
   ]
  },
  {
   "cell_type": "code",
   "execution_count": 2,
   "metadata": {},
   "outputs": [
    {
     "output_type": "stream",
     "name": "stdout",
     "text": [
      "0\n",
      "1\n",
      "2\n",
      "3\n",
      "4\n",
      "5\n",
      "6\n",
      "7\n",
      "8\n"
     ]
    }
   ],
   "source": [
    "f=mission_to_mars.scrape_facts()"
   ]
  },
  {
   "cell_type": "code",
   "execution_count": 8,
   "metadata": {},
   "outputs": [],
   "source": [
    "executable_path = {'executable_path': 'chromedriver.exe'}\n",
    "browser = Browser('chrome', **executable_path)\n",
    "url_facts='https://space-facts.com/mars/'\n",
    "browser.visit(url_facts)\n",
    "time.sleep(5)\n",
    "html = browser.html\n",
    "soup = BeautifulSoup(html, 'html.parser')\n",
    "\n",
    "article=soup.table.find_all('tr')\n",
    "\n",
    "table_data=[]\n",
    "for i in range(len(article)):\n",
    "    p=article[i].find('td', class_='column-1').text\n",
    "    v=article[i].find('td', class_='column-2').text\n",
    "    table_data.append({'Property':p,'Value':v})\n",
    "browser.quit()"
   ]
  },
  {
   "cell_type": "code",
   "execution_count": 5,
   "metadata": {},
   "outputs": [
    {
     "output_type": "stream",
     "name": "stdout",
     "text": [
      "Equatorial Diameter:6,792 km\nPolar Diameter:6,752 km\nMass:6.39 × 10^23 kg (0.11 Earths)\nMoons:2 (Phobos & Deimos)\nOrbit Distance:227,943,824 km (1.38 AU)\nOrbit Period:687 days (1.9 years)\nSurface Temperature: -87 to -5 °C\nFirst Record:2nd millennium BC\nRecorded By:Egyptian astronomers\n"
     ]
    }
   ],
   "source": [
    "for thing in f:\n",
    "    print(thing['Property'] + thing['Value'])"
   ]
  },
  {
   "cell_type": "code",
   "execution_count": 8,
   "metadata": {},
   "outputs": [
    {
     "output_type": "execute_result",
     "data": {
      "text/plain": [
       "{'Data': [{'Property': 'Equatorial Diameter:', 'Value': '6,792 km'},\n",
       "  {'Property': 'Polar Diameter:', 'Value': '6,752 km'},\n",
       "  {'Property': 'Mass:', 'Value': '6.39 × 10^23 kg (0.11 Earths)'},\n",
       "  {'Property': 'Moons:', 'Value': '2 (Phobos & Deimos)'},\n",
       "  {'Property': 'Orbit Distance:', 'Value': '227,943,824 km (1.38 AU)'},\n",
       "  {'Property': 'Orbit Period:', 'Value': '687 days (1.9 years)'},\n",
       "  {'Property': 'Surface Temperature: ', 'Value': '-87 to -5 °C'},\n",
       "  {'Property': 'First Record:', 'Value': '2nd millennium BC'},\n",
       "  {'Property': 'Recorded By:', 'Value': 'Egyptian astronomers'}]}"
      ]
     },
     "metadata": {},
     "execution_count": 8
    }
   ],
   "source": [
    "f_dict={'Data':f}\n",
    "f_dict"
   ]
  },
  {
   "cell_type": "code",
   "execution_count": 11,
   "metadata": {},
   "outputs": [
    {
     "output_type": "stream",
     "name": "stdout",
     "text": [
      "{'Property': 'Equatorial Diameter:', 'Value': '6,792 km'}\n{'Property': 'Polar Diameter:', 'Value': '6,752 km'}\n{'Property': 'Mass:', 'Value': '6.39 × 10^23 kg (0.11 Earths)'}\n{'Property': 'Moons:', 'Value': '2 (Phobos & Deimos)'}\n{'Property': 'Orbit Distance:', 'Value': '227,943,824 km (1.38 AU)'}\n{'Property': 'Orbit Period:', 'Value': '687 days (1.9 years)'}\n{'Property': 'Surface Temperature: ', 'Value': '-87 to -5 °C'}\n{'Property': 'First Record:', 'Value': '2nd millennium BC'}\n{'Property': 'Recorded By:', 'Value': 'Egyptian astronomers'}\n"
     ]
    }
   ],
   "source": [
    "for fact in f_dict['Data']:\n",
    "    print(fact)"
   ]
  },
  {
   "cell_type": "code",
   "execution_count": 49,
   "metadata": {},
   "outputs": [
    {
     "output_type": "execute_result",
     "data": {
      "text/plain": [
       "['Equatorial Diameter:',\n",
       " 'Polar Diameter:',\n",
       " 'Mass:',\n",
       " 'Moons:',\n",
       " 'Orbit Distance:',\n",
       " 'Orbit Period:',\n",
       " 'Surface Temperature: ',\n",
       " 'First Record:',\n",
       " 'Recorded By:']"
      ]
     },
     "metadata": {},
     "execution_count": 49
    }
   ],
   "source": [
    "facts['Fact']"
   ]
  },
  {
   "cell_type": "code",
   "execution_count": 51,
   "metadata": {},
   "outputs": [
    {
     "output_type": "stream",
     "name": "stdout",
     "text": [
      "Equatorial Diameter:\n6,792 km\nPolar Diameter:\n6,752 km\nMass:\n6.39 × 10^23 kg (0.11 Earths)\nMoons:\n2 (Phobos & Deimos)\nOrbit Distance:\n227,943,824 km (1.38 AU)\nOrbit Period:\n687 days (1.9 years)\nSurface Temperature: \n-87 to -5 °C\nFirst Record:\n2nd millennium BC\nRecorded By:\nEgyptian astronomers\n"
     ]
    }
   ],
   "source": [
    "for i in range(9):\n",
    "    print(facts['Fact'][i])\n",
    "    print(facts['Value'][i])"
   ]
  },
  {
   "cell_type": "code",
   "execution_count": 13,
   "metadata": {},
   "outputs": [
    {
     "output_type": "execute_result",
     "data": {
      "text/plain": [
       "                                          Title  \\\n",
       "0  NASA's Perseverance Rover Is Midway to Mars    \n",
       "\n",
       "                                                Body  \n",
       "0  Sometimes half measures can be a good thing – ...  "
      ],
      "text/html": "<div>\n<style scoped>\n    .dataframe tbody tr th:only-of-type {\n        vertical-align: middle;\n    }\n\n    .dataframe tbody tr th {\n        vertical-align: top;\n    }\n\n    .dataframe thead th {\n        text-align: right;\n    }\n</style>\n<table border=\"1\" class=\"dataframe\">\n  <thead>\n    <tr style=\"text-align: right;\">\n      <th></th>\n      <th>Title</th>\n      <th>Body</th>\n    </tr>\n  </thead>\n  <tbody>\n    <tr>\n      <th>0</th>\n      <td>NASA's Perseverance Rover Is Midway to Mars</td>\n      <td>Sometimes half measures can be a good thing – ...</td>\n    </tr>\n  </tbody>\n</table>\n</div>"
     },
     "metadata": {},
     "execution_count": 13
    }
   ],
   "source": [
    "data2=pd.DataFrame({\"Title\": [data.Title], \"Body\": [data.Body]})\n",
    "data2"
   ]
  },
  {
   "cell_type": "code",
   "execution_count": 12,
   "metadata": {},
   "outputs": [
    {
     "output_type": "execute_result",
     "data": {
      "text/plain": [
       "\"NASA's Perseverance Rover Is Midway to Mars \""
      ]
     },
     "metadata": {},
     "execution_count": 12
    }
   ],
   "source": [
    "data.Title"
   ]
  },
  {
   "cell_type": "code",
   "execution_count": 11,
   "metadata": {},
   "outputs": [
    {
     "output_type": "execute_result",
     "data": {
      "text/plain": [
       "Title         NASA's Perseverance Rover Is Midway to Mars \n",
       "Body     Sometimes half measures can be a good thing – ...\n",
       "Name: 0, dtype: object"
      ]
     },
     "metadata": {},
     "execution_count": 11
    }
   ],
   "source": [
    "data=mission_to_mars.mars_news()\n",
    "#data=mars_test.mars_news2()\n",
    "#data=mars_news()\n",
    "data.head()"
   ]
  },
  {
   "cell_type": "code",
   "execution_count": 16,
   "metadata": {},
   "outputs": [
    {
     "output_type": "execute_result",
     "data": {
      "text/plain": [
       "'<a href=\"https://mars.nasa.gov/news/\"></a>'"
      ]
     },
     "metadata": {},
     "execution_count": 16
    }
   ],
   "source": [
    "url_mars_news='https://mars.nasa.gov/news/'\n",
    "featured_url=\"<a href=\\\"\"+url_mars_news+\"\\\"></a>\"\n",
    "featured_url"
   ]
  },
  {
   "cell_type": "code",
   "execution_count": 17,
   "metadata": {},
   "outputs": [
    {
     "output_type": "execute_result",
     "data": {
      "text/plain": [
       "'https://www.jpl.nasa.gov/spaceimages/images/wallpaper/PIA24182-640x350.jpg'"
      ]
     },
     "metadata": {},
     "execution_count": 17
    }
   ],
   "source": [
    "mission_to_mars.scrape_images()"
   ]
  },
  {
   "cell_type": "code",
   "execution_count": 18,
   "metadata": {},
   "outputs": [],
   "source": [
    "hemi= mission_to_mars.scrape_hemi()"
   ]
  },
  {
   "cell_type": "code",
   "execution_count": 27,
   "metadata": {},
   "outputs": [
    {
     "output_type": "execute_result",
     "data": {
      "text/plain": [
       "['https://astropedia.astrogeology.usgs.gov/download/Mars/Viking/cerberus_enhanced.tif/full.jpg',\n",
       " 'https://astropedia.astrogeology.usgs.gov/download/Mars/Viking/schiaparelli_enhanced.tif/full.jpg',\n",
       " 'https://astropedia.astrogeology.usgs.gov/download/Mars/Viking/syrtis_major_enhanced.tif/full.jpg',\n",
       " 'https://astropedia.astrogeology.usgs.gov/download/Mars/Viking/valles_marineris_enhanced.tif/full.jpg']"
      ]
     },
     "metadata": {},
     "execution_count": 27
    }
   ],
   "source": [
    "hemi['Img_url'].tolist()"
   ]
  },
  {
   "cell_type": "code",
   "execution_count": 2,
   "metadata": {},
   "outputs": [],
   "source": [
    "def mars_news():\n",
    "    #Parse Mars News\n",
    "    executable_path = {'executable_path': 'chromedriver.exe'}\n",
    "    browser = Browser('chrome', **executable_path)\n",
    "    url_mars_news='https://mars.nasa.gov/news/'\n",
    "    browser.visit(url_mars_news)\n",
    "    html = browser.html\n",
    "    soup = BeautifulSoup(html, 'html.parser')\n",
    "\n",
    "    article=soup.find_all('ul', class_='item_list')[0].find_all('li',class_='slide')\n",
    "\n",
    "    title=[]\n",
    "    news=[]\n",
    "    for i in range(len(article)):\n",
    "        title.append(article[i].find('div',class_='content_title').text)\n",
    "        news.append(article[i].find('div',class_='article_teaser_body').text)\n",
    "    \n",
    "    news=pd.DataFrame({\"Title\": title, \"Body\": news})\n",
    "\n",
    "    browser.quit()\n",
    "\n",
    "    return news"
   ]
  },
  {
   "cell_type": "code",
   "execution_count": null,
   "metadata": {},
   "outputs": [],
   "source": []
  }
 ]
}