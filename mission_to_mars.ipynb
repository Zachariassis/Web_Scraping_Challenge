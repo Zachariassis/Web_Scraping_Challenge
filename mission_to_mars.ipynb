{
 "metadata": {
  "language_info": {
   "codemirror_mode": {
    "name": "ipython",
    "version": 3
   },
   "file_extension": ".py",
   "mimetype": "text/x-python",
   "name": "python",
   "nbconvert_exporter": "python",
   "pygments_lexer": "ipython3",
   "version": "3.6.10-final"
  },
  "orig_nbformat": 2,
  "kernelspec": {
   "name": "Python 3.6.10 64-bit ('bcs': conda)",
   "display_name": "Python 3.6.10 64-bit ('bcs': conda)",
   "metadata": {
    "interpreter": {
     "hash": "1971913ac00dca1e77910a85423f09eb065d4a539704e5d6846dea4f768dc547"
    }
   }
  }
 },
 "nbformat": 4,
 "nbformat_minor": 2,
 "cells": [
  {
   "cell_type": "code",
   "execution_count": 1,
   "metadata": {},
   "outputs": [],
   "source": [
    "from splinter import Browser\n",
    "from bs4 import BeautifulSoup\n",
    "import pandas as pd\n",
    "import json"
   ]
  },
  {
   "cell_type": "code",
   "execution_count": 2,
   "metadata": {},
   "outputs": [],
   "source": [
    "executable_path = {'executable_path': 'chromedriver.exe'}\n",
    "browser = Browser('chrome', **executable_path)"
   ]
  },
  {
   "cell_type": "code",
   "execution_count": 3,
   "metadata": {},
   "outputs": [],
   "source": [
    "#Write out URLs\n",
    "url_mars_news='https://mars.nasa.gov/news/'\n",
    "url_space_images='https://www.jpl.nasa.gov/spaceimages/?search=&category=Mars'\n",
    "url_facts='https://space-facts.com/mars/'\n",
    "url_hemi='https://astrogeology.usgs.gov/search/results?q=hemisphere+enhanced&k1=target&v1=Mars'"
   ]
  },
  {
   "cell_type": "code",
   "execution_count": 12,
   "metadata": {},
   "outputs": [],
   "source": [
    "#Parse Mars News\n",
    "browser.visit(url_mars_news)\n",
    "html = browser.html\n",
    "soup = BeautifulSoup(html, 'html.parser')\n",
    "article=soup.find_all('ul', class_='item_list')[0].find_all('li',class_='slide')\n",
    "\n",
    "title=[]\n",
    "news=[]\n",
    "for i in range(len(article)):\n",
    "    title.append(article[i].find('div',class_='content_title').text)\n",
    "    news.append(article[i].find('div',class_='article_teaser_body').text)"
   ]
  },
  {
   "cell_type": "code",
   "execution_count": 64,
   "metadata": {},
   "outputs": [],
   "source": [
    "#Parse Space Images\n",
    "browser.visit(url_space_images)\n",
    "html = browser.html\n",
    "soup = BeautifulSoup(html, 'html.parser')\n",
    "article=soup.find_all('ul', class_='articles')[0].find_all('li',class_='slide')[0]\n",
    "featured_image_url='https://www.jpl.nasa.gov'+article.find('div', class_='img').img['src']"
   ]
  },
  {
   "cell_type": "code",
   "execution_count": 96,
   "metadata": {},
   "outputs": [
    {
     "output_type": "execute_result",
     "data": {
      "text/plain": [
       "                Property                          Value\n",
       "0   Equatorial Diameter:                       6,792 km\n",
       "1        Polar Diameter:                       6,752 km\n",
       "2                  Mass:  6.39 × 10^23 kg (0.11 Earths)\n",
       "3                 Moons:            2 (Phobos & Deimos)\n",
       "4        Orbit Distance:       227,943,824 km (1.38 AU)\n",
       "5          Orbit Period:           687 days (1.9 years)\n",
       "6  Surface Temperature:                    -87 to -5 °C\n",
       "7          First Record:              2nd millennium BC\n",
       "8           Recorded By:           Egyptian astronomers"
      ],
      "text/html": "<div>\n<style scoped>\n    .dataframe tbody tr th:only-of-type {\n        vertical-align: middle;\n    }\n\n    .dataframe tbody tr th {\n        vertical-align: top;\n    }\n\n    .dataframe thead th {\n        text-align: right;\n    }\n</style>\n<table border=\"1\" class=\"dataframe\">\n  <thead>\n    <tr style=\"text-align: right;\">\n      <th></th>\n      <th>Property</th>\n      <th>Value</th>\n    </tr>\n  </thead>\n  <tbody>\n    <tr>\n      <th>0</th>\n      <td>Equatorial Diameter:</td>\n      <td>6,792 km</td>\n    </tr>\n    <tr>\n      <th>1</th>\n      <td>Polar Diameter:</td>\n      <td>6,752 km</td>\n    </tr>\n    <tr>\n      <th>2</th>\n      <td>Mass:</td>\n      <td>6.39 × 10^23 kg (0.11 Earths)</td>\n    </tr>\n    <tr>\n      <th>3</th>\n      <td>Moons:</td>\n      <td>2 (Phobos &amp; Deimos)</td>\n    </tr>\n    <tr>\n      <th>4</th>\n      <td>Orbit Distance:</td>\n      <td>227,943,824 km (1.38 AU)</td>\n    </tr>\n    <tr>\n      <th>5</th>\n      <td>Orbit Period:</td>\n      <td>687 days (1.9 years)</td>\n    </tr>\n    <tr>\n      <th>6</th>\n      <td>Surface Temperature:</td>\n      <td>-87 to -5 °C</td>\n    </tr>\n    <tr>\n      <th>7</th>\n      <td>First Record:</td>\n      <td>2nd millennium BC</td>\n    </tr>\n    <tr>\n      <th>8</th>\n      <td>Recorded By:</td>\n      <td>Egyptian astronomers</td>\n    </tr>\n  </tbody>\n</table>\n</div>"
     },
     "metadata": {},
     "execution_count": 96
    }
   ],
   "source": [
    "#Parse facts\n",
    "browser.visit(url_facts)\n",
    "html = browser.html\n",
    "soup = BeautifulSoup(html, 'html.parser')\n",
    "\n",
    "article=soup.table.find_all('tr')\n",
    "\n",
    "table_data=pd.DataFrame({'Property':[],'Value':[]})\n",
    "for i in range(len(article)):\n",
    "    p=article[i].find('td', class_='column-1').text\n",
    "    v=article[i].find('td', class_='column-2').text\n",
    "    table_data=table_data.append(pd.DataFrame({'Property':[p],'Value':[v]}))\n",
    "\n",
    "table_data=table_data.reset_index(drop=True)\n",
    "table_data"
   ]
  },
  {
   "cell_type": "code",
   "execution_count": 127,
   "metadata": {},
   "outputs": [],
   "source": [
    "#Covert to HTML String\n",
    "\n",
    "html_data=table_data.to_html()\n",
    "text_file = open(\"data_table.html\", \"w\")\n",
    "text_file.write(html_data)\n",
    "text_file.close()"
   ]
  },
  {
   "cell_type": "code",
   "execution_count": 118,
   "metadata": {},
   "outputs": [
    {
     "output_type": "execute_result",
     "data": {
      "text/plain": [
       "                     Title                                            Img_url\n",
       "0      Cerberus Hemisphere  https://astropedia.astrogeology.usgs.gov/downl...\n",
       "1  Schiaparelli Hemisphere  https://astropedia.astrogeology.usgs.gov/downl...\n",
       "2             Syrtis Major  https://astropedia.astrogeology.usgs.gov/downl...\n",
       "3         Valles Marineris  https://astropedia.astrogeology.usgs.gov/downl..."
      ],
      "text/html": "<div>\n<style scoped>\n    .dataframe tbody tr th:only-of-type {\n        vertical-align: middle;\n    }\n\n    .dataframe tbody tr th {\n        vertical-align: top;\n    }\n\n    .dataframe thead th {\n        text-align: right;\n    }\n</style>\n<table border=\"1\" class=\"dataframe\">\n  <thead>\n    <tr style=\"text-align: right;\">\n      <th></th>\n      <th>Title</th>\n      <th>Img_url</th>\n    </tr>\n  </thead>\n  <tbody>\n    <tr>\n      <th>0</th>\n      <td>Cerberus Hemisphere</td>\n      <td>https://astropedia.astrogeology.usgs.gov/downl...</td>\n    </tr>\n    <tr>\n      <th>1</th>\n      <td>Schiaparelli Hemisphere</td>\n      <td>https://astropedia.astrogeology.usgs.gov/downl...</td>\n    </tr>\n    <tr>\n      <th>2</th>\n      <td>Syrtis Major</td>\n      <td>https://astropedia.astrogeology.usgs.gov/downl...</td>\n    </tr>\n    <tr>\n      <th>3</th>\n      <td>Valles Marineris</td>\n      <td>https://astropedia.astrogeology.usgs.gov/downl...</td>\n    </tr>\n  </tbody>\n</table>\n</div>"
     },
     "metadata": {},
     "execution_count": 118
    }
   ],
   "source": [
    "#Parse Hemispheres\n",
    "\n",
    "hemsisphere_url=pd.DataFrame({'Title':[], 'Img_url':[]})\n",
    "\n",
    "for i in range(4):\n",
    "    browser.visit(url_hemi)\n",
    "    html = browser.html\n",
    "    soup = BeautifulSoup(html, 'html.parser')\n",
    "    article=soup.find_all('div', class_='item')\n",
    "    link=article[i].a['href']\n",
    "    browser.visit('https://astrogeology.usgs.gov'+link)\n",
    "    html = browser.html\n",
    "    soup = BeautifulSoup(html, 'html.parser')\n",
    "    img_url=soup.li.a['href']\n",
    "    img_name=str.split(soup.h2.text)\n",
    "    hemsisphere_url=hemsisphere_url.append(pd.DataFrame({'Title':[img_name[0]+' '+img_name[1]], 'Img_url':[img_url]}))\n",
    "hemsisphere_url=hemsisphere_url.reset_index(drop=True)\n",
    "hemsisphere_url"
   ]
  },
  {
   "cell_type": "code",
   "execution_count": 114,
   "metadata": {},
   "outputs": [
    {
     "output_type": "execute_result",
     "data": {
      "text/plain": [
       "['Cerberus', 'Hemisphere', 'Enhanced']"
      ]
     },
     "metadata": {},
     "execution_count": 114
    }
   ],
   "source": [
    "img_name=str.split(soup.h2.text)\n",
    "#hemsisphere_url=pd.DataFrame({'Title':[], 'Img_url':[]})\n"
   ]
  },
  {
   "cell_type": "code",
   "execution_count": 126,
   "metadata": {},
   "outputs": [
    {
     "output_type": "execute_result",
     "data": {
      "text/plain": [
       "'https://astropedia.astrogeology.usgs.gov/download/Mars/Viking/valles_marineris_enhanced.tif/full.jpg'"
      ]
     },
     "metadata": {},
     "execution_count": 126
    }
   ],
   "source": [
    "hemsisphere_url['Img_url'][3]"
   ]
  },
  {
   "cell_type": "code",
   "execution_count": null,
   "metadata": {},
   "outputs": [],
   "source": []
  }
 ]
}